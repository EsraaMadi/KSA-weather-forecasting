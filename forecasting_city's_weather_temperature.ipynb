{
  "nbformat": 4,
  "nbformat_minor": 0,
  "metadata": {
    "accelerator": "GPU",
    "colab": {
      "name": "forecasting city's weather temperature.ipynb",
      "provenance": [],
      "collapsed_sections": [],
      "toc_visible": true
    },
    "kernelspec": {
      "display_name": "Python 3",
      "name": "python3"
    }
  },
  "cells": [
    {
      "cell_type": "markdown",
      "metadata": {
        "id": "cinqamnOXJ-u",
        "colab_type": "text"
      },
      "source": [
        "# Saudi Arabia Weather Forecasting:\n",
        "- Part 1: Forecast a weather temperature in any Saudi city **(Univariate time series forecasting).**\n",
        "\n",
        "_Auther: Esraa Madi_\n",
        "\n",
        "\n",
        "-------"
      ]
    },
    {
      "cell_type": "code",
      "metadata": {
        "colab_type": "code",
        "id": "56XEQOGknrAk",
        "colab": {
          "base_uri": "https://localhost:8080/",
          "height": 35
        },
        "outputId": "dcb5d5af-b680-4d18-fa8c-c94700296fe3"
      },
      "source": [
        "# import libs\n",
        "import pandas as pd\n",
        "import pickle\n",
        "import numpy as np\n",
        "import matplotlib.pyplot as plt\n",
        "import tensorflow as tf\n",
        "print(tf.__version__)"
      ],
      "execution_count": null,
      "outputs": [
        {
          "output_type": "stream",
          "text": [
            "2.2.0\n"
          ],
          "name": "stdout"
        }
      ]
    },
    {
      "cell_type": "code",
      "metadata": {
        "colab_type": "code",
        "id": "sLl52leVp5wU",
        "colab": {}
      },
      "source": [
        "def plot_series(time, series, fig_title, x_label=\"Time\", y_label=\"Value\", format=\"-\", start=0, end=None):\n",
        "    \"\"\"Function to plot time series data\"\"\"\n",
        "    plt.plot(time[start:end], series[start:end], format)\n",
        "    plt.xlabel(x_label)\n",
        "    plt.ylabel(y_label)\n",
        "    plt.title(fig_title)\n",
        "    plt.grid(True)"
      ],
      "execution_count": null,
      "outputs": []
    },
    {
      "cell_type": "code",
      "metadata": {
        "id": "iCgs5TLH0YYD",
        "colab_type": "code",
        "colab": {
          "base_uri": "https://localhost:8080/",
          "height": 55
        },
        "outputId": "6c0bd08f-0b81-4129-d05c-c5d4847c189a"
      },
      "source": [
        "from google.colab import drive\n",
        "drive.mount('/content/gdrive')"
      ],
      "execution_count": null,
      "outputs": [
        {
          "output_type": "stream",
          "text": [
            "Drive already mounted at /content/gdrive; to attempt to forcibly remount, call drive.mount(\"/content/gdrive\", force_remount=True).\n"
          ],
          "name": "stdout"
        }
      ]
    },
    {
      "cell_type": "code",
      "metadata": {
        "id": "FZsz4j8VwlxI",
        "colab_type": "code",
        "colab": {}
      },
      "source": [
        "# load cleaned data \n",
        "infile = open('/content/gdrive/My Drive/Colab Notebooks/datasets/clean_cities_dataset','rb')\n",
        "df_cities_lst = pickle.load(infile)\n",
        "cities = pickle.load(infile)\n",
        "infile.close()"
      ],
      "execution_count": null,
      "outputs": []
    },
    {
      "cell_type": "code",
      "metadata": {
        "id": "T_h52qCN1Hpe",
        "colab_type": "code",
        "colab": {
          "base_uri": "https://localhost:8080/",
          "height": 198
        },
        "outputId": "e424c38d-8056-4457-ac36-bfb4b587c666"
      },
      "source": [
        "# show some data\n",
        "df_cities_lst[0].head()"
      ],
      "execution_count": null,
      "outputs": [
        {
          "output_type": "execute_result",
          "data": {
            "text/html": [
              "<div>\n",
              "<style scoped>\n",
              "    .dataframe tbody tr th:only-of-type {\n",
              "        vertical-align: middle;\n",
              "    }\n",
              "\n",
              "    .dataframe tbody tr th {\n",
              "        vertical-align: top;\n",
              "    }\n",
              "\n",
              "    .dataframe thead th {\n",
              "        text-align: right;\n",
              "    }\n",
              "</style>\n",
              "<table border=\"1\" class=\"dataframe\">\n",
              "  <thead>\n",
              "    <tr style=\"text-align: right;\">\n",
              "      <th></th>\n",
              "      <th>barometer</th>\n",
              "      <th>humidity</th>\n",
              "      <th>temp</th>\n",
              "      <th>visibility</th>\n",
              "      <th>wind</th>\n",
              "      <th>city</th>\n",
              "      <th>weather</th>\n",
              "    </tr>\n",
              "  </thead>\n",
              "  <tbody>\n",
              "    <tr>\n",
              "      <th>2017-01-01 00:00:00</th>\n",
              "      <td>1018.0</td>\n",
              "      <td>64.0</td>\n",
              "      <td>17.0</td>\n",
              "      <td>16.0</td>\n",
              "      <td>11.0</td>\n",
              "      <td>Qassim</td>\n",
              "      <td>Clear</td>\n",
              "    </tr>\n",
              "    <tr>\n",
              "      <th>2017-01-01 03:00:00</th>\n",
              "      <td>1018.0</td>\n",
              "      <td>64.0</td>\n",
              "      <td>17.0</td>\n",
              "      <td>16.0</td>\n",
              "      <td>11.0</td>\n",
              "      <td>Qassim</td>\n",
              "      <td>Clear</td>\n",
              "    </tr>\n",
              "    <tr>\n",
              "      <th>2017-01-01 06:00:00</th>\n",
              "      <td>1018.0</td>\n",
              "      <td>64.0</td>\n",
              "      <td>17.0</td>\n",
              "      <td>16.0</td>\n",
              "      <td>11.0</td>\n",
              "      <td>Qassim</td>\n",
              "      <td>Clear</td>\n",
              "    </tr>\n",
              "    <tr>\n",
              "      <th>2017-01-01 09:00:00</th>\n",
              "      <td>1018.0</td>\n",
              "      <td>64.0</td>\n",
              "      <td>17.0</td>\n",
              "      <td>16.0</td>\n",
              "      <td>11.0</td>\n",
              "      <td>Qassim</td>\n",
              "      <td>Clear</td>\n",
              "    </tr>\n",
              "    <tr>\n",
              "      <th>2017-01-01 12:00:00</th>\n",
              "      <td>1018.0</td>\n",
              "      <td>64.0</td>\n",
              "      <td>17.0</td>\n",
              "      <td>16.0</td>\n",
              "      <td>11.0</td>\n",
              "      <td>Qassim</td>\n",
              "      <td>Clear</td>\n",
              "    </tr>\n",
              "  </tbody>\n",
              "</table>\n",
              "</div>"
            ],
            "text/plain": [
              "                     barometer  humidity  temp  ...  wind    city weather\n",
              "2017-01-01 00:00:00     1018.0      64.0  17.0  ...  11.0  Qassim  Clear \n",
              "2017-01-01 03:00:00     1018.0      64.0  17.0  ...  11.0  Qassim  Clear \n",
              "2017-01-01 06:00:00     1018.0      64.0  17.0  ...  11.0  Qassim  Clear \n",
              "2017-01-01 09:00:00     1018.0      64.0  17.0  ...  11.0  Qassim  Clear \n",
              "2017-01-01 12:00:00     1018.0      64.0  17.0  ...  11.0  Qassim  Clear \n",
              "\n",
              "[5 rows x 7 columns]"
            ]
          },
          "metadata": {
            "tags": []
          },
          "execution_count": 5
        }
      ]
    },
    {
      "cell_type": "code",
      "metadata": {
        "id": "DJG7AY6o1QFI",
        "colab_type": "code",
        "colab": {
          "base_uri": "https://localhost:8080/",
          "height": 242
        },
        "outputId": "5a2d58df-a1d4-4ce9-bc5e-bf575aa5bc9b"
      },
      "source": [
        "# Saudi cities\n",
        "cities"
      ],
      "execution_count": null,
      "outputs": [
        {
          "output_type": "execute_result",
          "data": {
            "text/plain": [
              "['Qassim',\n",
              " 'Hail',\n",
              " 'Madina',\n",
              " 'EP',\n",
              " 'Riyadh',\n",
              " 'Mecca',\n",
              " 'Tabuk',\n",
              " 'Assir',\n",
              " 'Northern boarder',\n",
              " 'Jazan',\n",
              " 'Najran',\n",
              " 'Baha',\n",
              " 'Jawf']"
            ]
          },
          "metadata": {
            "tags": []
          },
          "execution_count": 6
        }
      ]
    },
    {
      "cell_type": "code",
      "metadata": {
        "id": "asbMqhho4WyG",
        "colab_type": "code",
        "colab": {
          "base_uri": "https://localhost:8080/",
          "height": 35
        },
        "outputId": "40669437-d27c-47ea-c108-a83de6c503bb"
      },
      "source": [
        "# let's start by forcastion temperature of Madina city\n",
        "city_index = cities.index('Madina')\n",
        "city_index"
      ],
      "execution_count": null,
      "outputs": [
        {
          "output_type": "execute_result",
          "data": {
            "text/plain": [
              "2"
            ]
          },
          "metadata": {
            "tags": []
          },
          "execution_count": 7
        }
      ]
    },
    {
      "cell_type": "code",
      "metadata": {
        "id": "MdWmR8ITZjLa",
        "colab_type": "code",
        "colab": {
          "base_uri": "https://localhost:8080/",
          "height": 35
        },
        "outputId": "a846f767-9688-473b-ac55-aca577ffb451"
      },
      "source": [
        "# number of rows we have for Madina\n",
        "df_cities_lst[city_index].shape"
      ],
      "execution_count": null,
      "outputs": [
        {
          "output_type": "execute_result",
          "data": {
            "text/plain": [
              "(6793, 7)"
            ]
          },
          "metadata": {
            "tags": []
          },
          "execution_count": 8
        }
      ]
    },
    {
      "cell_type": "code",
      "metadata": {
        "colab_type": "code",
        "id": "NcG9r1eClbTh",
        "colab": {
          "base_uri": "https://localhost:8080/",
          "height": 458
        },
        "outputId": "ad11acef-8e9e-4a04-a539-b1f352df7b18"
      },
      "source": [
        "# plot Madina tempruture\n",
        "series = df_cities_lst[city_index].temp.values\n",
        "time = np.array(df_cities_lst[2].index)\n",
        "plt.figure(figsize=(15, 7))\n",
        "plot_series(time, series, fig_title=\"Madina city temperature\", y_label=\"Temperature\")"
      ],
      "execution_count": null,
      "outputs": [
        {
          "output_type": "display_data",
          "data": {
            "image/png": "[encoded data removed]",
            "text/plain": [
              "<Figure size 1080x504 with 1 Axes>"
            ]
          },
          "metadata": {
            "tags": [],
            "needs_background": "light"
          }
        }
      ]
    },
    {
      "cell_type": "code",
      "metadata": {
        "colab_type": "code",
        "id": "L92YRw_IpCFG",
        "colab": {}
      },
      "source": [
        "# split our data to train and text data\n",
        "split_time = 4700 # where test data starts\n",
        "time_train = time[:split_time]\n",
        "x_train = series[:split_time]\n",
        "time_valid = time[split_time:]\n",
        "x_valid = series[split_time:]\n",
        "\n",
        "# number of features (points) used to predict next point after this window\n",
        "window_size = 64\n",
        "\n",
        "# For training we need to create batches (set of rows(X) with corresponding y)\n",
        "batch_size = 256\n",
        "\n",
        "# It will just fill the buffer with the first 'shuffle_buffer_size' elements, pick one of them at random. \n",
        "# And then it will replace that with the 'shuffle_buffer_size' element and first element before randomly picking again, and so on. \n",
        "# using a shuffle buffer speeds things up a bit.\n",
        "shuffle_buffer_size = 1000\n"
      ],
      "execution_count": null,
      "outputs": []
    },
    {
      "cell_type": "code",
      "metadata": {
        "colab_type": "code",
        "id": "lJwUUZscnG38",
        "colab": {}
      },
      "source": [
        "def windowed_dataset(series, window_size, batch_size, shuffle_buffer):\n",
        "    '''Function used to divide our series to windows since each window contains number of points\n",
        "       we will consider then as features to predict the next value after this window'''\n",
        "\n",
        "    # inserts a dimension of 1 at the dimension index axis (-1 means last index)of input's shape \n",
        "    # so here if series [1, 2, 3, 4] with shape [4] , so the result is [[1], [2], [3], [4]] with shape [6,1]\n",
        "    series = tf.expand_dims(series, axis=-1)\n",
        "\n",
        "    # create a dataset from the series using a tf.data dataset.\n",
        "    ds = tf.data.Dataset.from_tensor_slices(series)\n",
        "\n",
        "    # convert series to following form:\n",
        "    # row1: 0-30 points \n",
        "    # row2: 1-31 points \n",
        "    # row3: 2-32 points and so on\n",
        "    # every time we shift by one point \n",
        "    # here it add 1 to window size bcz (feature num + label)\n",
        "    # drop_remainder: is useful at the end to delete last rows that don't have enough features \n",
        "    ds = ds.window(window_size + 1, shift=1, drop_remainder=True)\n",
        "\n",
        "    # put these windows into numpy lists so that we can start using them with machine learning.\n",
        "    # ex :\n",
        "    # row1 (window1): 1 2 3 4 5 => [1 2 3 4 5]\n",
        "    # row2 (window2): 2 3 4 5 6 => [2 3 4 5 6] and so on\n",
        "    ds = ds.flat_map(lambda w: w.batch(window_size + 1))\n",
        "\n",
        "    # shuffle our data (rows) before training.\n",
        "    ds = ds.shuffle(shuffle_buffer)\n",
        "\n",
        "    # divide each row to 'window_size' as features and 1 as lebal\n",
        "    # ex:\n",
        "    # row1: [1 2 3 4 5] => [1 2 3 4] [5]\n",
        "    ds = ds.map(lambda w: (w[:-1], w[1:]))\n",
        "\n",
        "    # batch the data into sets of 'batch_size'\n",
        "    return ds.batch(batch_size).prefetch(1)"
      ],
      "execution_count": null,
      "outputs": []
    },
    {
      "cell_type": "code",
      "metadata": {
        "colab_type": "code",
        "id": "4XwGrf-A_wF0",
        "colab": {}
      },
      "source": [
        "def model_forecast(model, series, window_size):\n",
        "    \"\"\"Function to divide series to windows then forcast next values for each window in a series data\"\"\"\n",
        "    ds = tf.data.Dataset.from_tensor_slices(series)\n",
        "    ds = ds.window(window_size, shift=1, drop_remainder=True)\n",
        "    ds = ds.flat_map(lambda w: w.batch(window_size))\n",
        "    ds = ds.batch(32).prefetch(1)\n",
        "    forecast = model.predict(ds)\n",
        "    return forecast"
      ],
      "execution_count": null,
      "outputs": []
    },
    {
      "cell_type": "code",
      "metadata": {
        "id": "ONQbIZ4hgld8",
        "colab_type": "code",
        "colab": {
          "base_uri": "https://localhost:8080/",
          "height": 52
        },
        "outputId": "bced72ab-f8a1-45aa-cce2-b5e9174af4d9"
      },
      "source": [
        "# clear tensorflow session\n",
        "tf.keras.backend.clear_session()\n",
        "\n",
        "# Setting seed to ensure reproducibility.\n",
        "tf.random.set_seed(51)\n",
        "np.random.seed(51)\n",
        "\n",
        "# preprocess series data\n",
        "train_set = windowed_dataset(x_train, window_size, batch_size, shuffle_buffer_size)\n",
        "print(train_set)\n",
        "print(x_train.shape)"
      ],
      "execution_count": null,
      "outputs": [
        {
          "output_type": "stream",
          "text": [
            "<PrefetchDataset shapes: ((None, None, 1), (None, None, 1)), types: (tf.float64, tf.float64)>\n",
            "(4700,)\n"
          ],
          "name": "stdout"
        }
      ]
    },
    {
      "cell_type": "code",
      "metadata": {
        "colab_type": "code",
        "id": "AclfYY3Mn6Ph",
        "colab": {
          "base_uri": "https://localhost:8080/",
          "height": 1000
        },
        "outputId": "40cdb487-c4a6-4c93-8882-24997c61671e"
      },
      "source": [
        "# Build deep learning model\n",
        "model = tf.keras.models.Sequential([\n",
        "  tf.keras.layers.Conv1D(filters=32, kernel_size=5,\n",
        "                      strides=1, padding=\"causal\",\n",
        "                      activation=\"relu\",\n",
        "                      input_shape=[None, 1]),\n",
        "  tf.keras.layers.LSTM(64, return_sequences=True),\n",
        "  tf.keras.layers.LSTM(64, return_sequences=True),\n",
        "  tf.keras.layers.Dense(30, activation=\"relu\"),\n",
        "  tf.keras.layers.Dense(10, activation=\"relu\"),\n",
        "  tf.keras.layers.Dense(1),\n",
        "  tf.keras.layers.Lambda(lambda x: x * 400)\n",
        "  # The default activation function in the RNN layers is tan H which is the hyperbolic tangent activation. \n",
        "  # This outputs values between negative one and one. Since the time series values are in that order usually in \n",
        "  # the 10s like 40s, 50s, 60s, and 70s, then scaling up the outputs to the same ballpark can help us with learning\n",
        "])\n",
        "\n",
        "# change learning rate during training\n",
        "lr_schedule = tf.keras.callbacks.LearningRateScheduler(\n",
        "    lambda epoch: 1e-8 * 10**(epoch / 20))\n",
        "# set optimizer\n",
        "optimizer = tf.keras.optimizers.SGD(lr=1e-8, momentum=0.9)\n",
        "\n",
        "# compile and fit model\n",
        "model.compile(loss=tf.keras.losses.Huber(),\n",
        "              optimizer=optimizer,\n",
        "              metrics=[\"mae\"])\n",
        "history = model.fit(train_set, epochs=100, callbacks=[lr_schedule])\n"
      ],
      "execution_count": null,
      "outputs": [
        {
          "output_type": "stream",
          "text": [
            "Epoch 1/100\n",
            "19/19 [==============================] - 1s 57ms/step - loss: 45.8426 - mae: 46.3405 - lr: 1.0000e-08\n",
            "Epoch 2/100\n",
            "19/19 [==============================] - 1s 61ms/step - loss: 41.6222 - mae: 42.1194 - lr: 1.1220e-08\n",
            "Epoch 3/100\n",
            "19/19 [==============================] - 1s 62ms/step - loss: 34.8994 - mae: 35.3963 - lr: 1.2589e-08\n",
            "Epoch 4/100\n",
            "19/19 [==============================] - 1s 63ms/step - loss: 26.5995 - mae: 27.0975 - lr: 1.4125e-08\n",
            "Epoch 5/100\n",
            "19/19 [==============================] - 1s 60ms/step - loss: 19.5252 - mae: 20.0236 - lr: 1.5849e-08\n",
            "Epoch 6/100\n",
            "19/19 [==============================] - 1s 59ms/step - loss: 13.3053 - mae: 13.8021 - lr: 1.7783e-08\n",
            "Epoch 7/100\n",
            "19/19 [==============================] - 1s 59ms/step - loss: 8.2449 - mae: 8.7338 - lr: 1.9953e-08\n",
            "Epoch 8/100\n",
            "19/19 [==============================] - 1s 62ms/step - loss: 5.8437 - mae: 6.3205 - lr: 2.2387e-08\n",
            "Epoch 9/100\n",
            "19/19 [==============================] - 1s 60ms/step - loss: 5.4819 - mae: 5.9618 - lr: 2.5119e-08\n",
            "Epoch 10/100\n",
            "19/19 [==============================] - 1s 60ms/step - loss: 5.3378 - mae: 5.8164 - lr: 2.8184e-08\n",
            "Epoch 11/100\n",
            "19/19 [==============================] - 1s 58ms/step - loss: 5.2189 - mae: 5.6954 - lr: 3.1623e-08\n",
            "Epoch 12/100\n",
            "19/19 [==============================] - 1s 59ms/step - loss: 5.1054 - mae: 5.5815 - lr: 3.5481e-08\n",
            "Epoch 13/100\n",
            "19/19 [==============================] - 1s 61ms/step - loss: 4.9803 - mae: 5.4555 - lr: 3.9811e-08\n",
            "Epoch 14/100\n",
            "19/19 [==============================] - 1s 61ms/step - loss: 4.8541 - mae: 5.3288 - lr: 4.4668e-08\n",
            "Epoch 15/100\n",
            "19/19 [==============================] - 1s 59ms/step - loss: 4.7122 - mae: 5.1857 - lr: 5.0119e-08\n",
            "Epoch 16/100\n",
            "19/19 [==============================] - 1s 60ms/step - loss: 4.5606 - mae: 5.0326 - lr: 5.6234e-08\n",
            "Epoch 17/100\n",
            "19/19 [==============================] - 1s 58ms/step - loss: 4.3880 - mae: 4.8582 - lr: 6.3096e-08\n",
            "Epoch 18/100\n",
            "19/19 [==============================] - 1s 61ms/step - loss: 4.2024 - mae: 4.6712 - lr: 7.0795e-08\n",
            "Epoch 19/100\n",
            "19/19 [==============================] - 1s 60ms/step - loss: 4.0344 - mae: 4.5025 - lr: 7.9433e-08\n",
            "Epoch 20/100\n",
            "19/19 [==============================] - 1s 61ms/step - loss: 3.9249 - mae: 4.3923 - lr: 8.9125e-08\n",
            "Epoch 21/100\n",
            "19/19 [==============================] - 1s 61ms/step - loss: 3.8351 - mae: 4.3015 - lr: 1.0000e-07\n",
            "Epoch 22/100\n",
            "19/19 [==============================] - 1s 59ms/step - loss: 3.7556 - mae: 4.2210 - lr: 1.1220e-07\n",
            "Epoch 23/100\n",
            "19/19 [==============================] - 1s 59ms/step - loss: 3.6692 - mae: 4.1334 - lr: 1.2589e-07\n",
            "Epoch 24/100\n",
            "19/19 [==============================] - 1s 60ms/step - loss: 3.5895 - mae: 4.0535 - lr: 1.4125e-07\n",
            "Epoch 25/100\n",
            "19/19 [==============================] - 1s 60ms/step - loss: 3.5054 - mae: 3.9691 - lr: 1.5849e-07\n",
            "Epoch 26/100\n",
            "19/19 [==============================] - 1s 61ms/step - loss: 3.4212 - mae: 3.8836 - lr: 1.7783e-07\n",
            "Epoch 27/100\n",
            "19/19 [==============================] - 1s 63ms/step - loss: 3.3396 - mae: 3.8025 - lr: 1.9953e-07\n",
            "Epoch 28/100\n",
            "19/19 [==============================] - 1s 59ms/step - loss: 3.2581 - mae: 3.7207 - lr: 2.2387e-07\n",
            "Epoch 29/100\n",
            "19/19 [==============================] - 1s 60ms/step - loss: 3.1387 - mae: 3.5999 - lr: 2.5119e-07\n",
            "Epoch 30/100\n",
            "19/19 [==============================] - 1s 59ms/step - loss: 3.0242 - mae: 3.4831 - lr: 2.8184e-07\n",
            "Epoch 31/100\n",
            "19/19 [==============================] - 1s 62ms/step - loss: 2.9012 - mae: 3.3581 - lr: 3.1623e-07\n",
            "Epoch 32/100\n",
            "19/19 [==============================] - 1s 62ms/step - loss: 2.7828 - mae: 3.2399 - lr: 3.5481e-07\n",
            "Epoch 33/100\n",
            "19/19 [==============================] - 1s 62ms/step - loss: 2.5423 - mae: 2.9930 - lr: 3.9811e-07\n",
            "Epoch 34/100\n",
            "19/19 [==============================] - 1s 63ms/step - loss: 2.3139 - mae: 2.7583 - lr: 4.4668e-07\n",
            "Epoch 35/100\n",
            "19/19 [==============================] - 1s 62ms/step - loss: 2.0866 - mae: 2.5243 - lr: 5.0119e-07\n",
            "Epoch 36/100\n",
            "19/19 [==============================] - 1s 58ms/step - loss: 2.0238 - mae: 2.4634 - lr: 5.6234e-07\n",
            "Epoch 37/100\n",
            "19/19 [==============================] - 1s 61ms/step - loss: 1.9752 - mae: 2.4162 - lr: 6.3096e-07\n",
            "Epoch 38/100\n",
            "19/19 [==============================] - 1s 61ms/step - loss: 1.9067 - mae: 2.3484 - lr: 7.0795e-07\n",
            "Epoch 39/100\n",
            "19/19 [==============================] - 1s 59ms/step - loss: 1.7955 - mae: 2.2347 - lr: 7.9433e-07\n",
            "Epoch 40/100\n",
            "19/19 [==============================] - 1s 61ms/step - loss: 1.6023 - mae: 2.0298 - lr: 8.9125e-07\n",
            "Epoch 41/100\n",
            "19/19 [==============================] - 1s 63ms/step - loss: 1.4159 - mae: 1.8285 - lr: 1.0000e-06\n",
            "Epoch 42/100\n",
            "19/19 [==============================] - 1s 62ms/step - loss: 1.3561 - mae: 1.7710 - lr: 1.1220e-06\n",
            "Epoch 43/100\n",
            "19/19 [==============================] - 1s 63ms/step - loss: 1.1881 - mae: 1.5869 - lr: 1.2589e-06\n",
            "Epoch 44/100\n",
            "19/19 [==============================] - 1s 59ms/step - loss: 1.0680 - mae: 1.4603 - lr: 1.4125e-06\n",
            "Epoch 45/100\n",
            "19/19 [==============================] - 1s 62ms/step - loss: 0.9524 - mae: 1.3333 - lr: 1.5849e-06\n",
            "Epoch 46/100\n",
            "19/19 [==============================] - 1s 62ms/step - loss: 0.8774 - mae: 1.2531 - lr: 1.7783e-06\n",
            "Epoch 47/100\n",
            "19/19 [==============================] - 1s 61ms/step - loss: 0.8595 - mae: 1.2435 - lr: 1.9953e-06\n",
            "Epoch 48/100\n",
            "19/19 [==============================] - 1s 61ms/step - loss: 0.9163 - mae: 1.3174 - lr: 2.2387e-06\n",
            "Epoch 49/100\n",
            "19/19 [==============================] - 1s 61ms/step - loss: 0.9240 - mae: 1.3245 - lr: 2.5119e-06\n",
            "Epoch 50/100\n",
            "19/19 [==============================] - 1s 61ms/step - loss: 0.8056 - mae: 1.1924 - lr: 2.8184e-06\n",
            "Epoch 51/100\n",
            "19/19 [==============================] - 1s 56ms/step - loss: 0.9524 - mae: 1.3739 - lr: 3.1623e-06\n",
            "Epoch 52/100\n",
            "19/19 [==============================] - 1s 64ms/step - loss: 1.1023 - mae: 1.5268 - lr: 3.5481e-06\n",
            "Epoch 53/100\n",
            "19/19 [==============================] - 1s 61ms/step - loss: 1.1577 - mae: 1.5930 - lr: 3.9811e-06\n",
            "Epoch 54/100\n",
            "19/19 [==============================] - 1s 61ms/step - loss: 1.4349 - mae: 1.8732 - lr: 4.4668e-06\n",
            "Epoch 55/100\n",
            "19/19 [==============================] - 1s 57ms/step - loss: 1.5978 - mae: 2.0439 - lr: 5.0119e-06\n",
            "Epoch 56/100\n",
            "19/19 [==============================] - 1s 64ms/step - loss: 1.4372 - mae: 1.8869 - lr: 5.6234e-06\n",
            "Epoch 57/100\n",
            "19/19 [==============================] - 1s 60ms/step - loss: 1.5747 - mae: 2.0434 - lr: 6.3096e-06\n",
            "Epoch 58/100\n",
            "19/19 [==============================] - 1s 60ms/step - loss: 1.5925 - mae: 2.0427 - lr: 7.0795e-06\n",
            "Epoch 59/100\n",
            "19/19 [==============================] - 1s 64ms/step - loss: 1.9792 - mae: 2.4460 - lr: 7.9433e-06\n",
            "Epoch 60/100\n",
            "19/19 [==============================] - 1s 61ms/step - loss: 5.5345 - mae: 6.0139 - lr: 8.9125e-06\n",
            "Epoch 61/100\n",
            "19/19 [==============================] - 1s 62ms/step - loss: 2.9958 - mae: 3.4577 - lr: 1.0000e-05\n",
            "Epoch 62/100\n",
            "19/19 [==============================] - 1s 61ms/step - loss: 4.8610 - mae: 5.3436 - lr: 1.1220e-05\n",
            "Epoch 63/100\n",
            "19/19 [==============================] - 1s 59ms/step - loss: 5.0265 - mae: 5.5176 - lr: 1.2589e-05\n",
            "Epoch 64/100\n",
            "19/19 [==============================] - 1s 60ms/step - loss: 3.9991 - mae: 4.4759 - lr: 1.4125e-05\n",
            "Epoch 65/100\n",
            "19/19 [==============================] - 1s 63ms/step - loss: 4.4964 - mae: 4.9832 - lr: 1.5849e-05\n",
            "Epoch 66/100\n",
            "19/19 [==============================] - 1s 60ms/step - loss: 4.9881 - mae: 5.4806 - lr: 1.7783e-05\n",
            "Epoch 67/100\n",
            "19/19 [==============================] - 1s 61ms/step - loss: 1.8692 - mae: 2.3238 - lr: 1.9953e-05\n",
            "Epoch 68/100\n",
            "19/19 [==============================] - 1s 63ms/step - loss: 2.6227 - mae: 3.0823 - lr: 2.2387e-05\n",
            "Epoch 69/100\n",
            "19/19 [==============================] - 1s 63ms/step - loss: 9.0006 - mae: 9.4875 - lr: 2.5119e-05\n",
            "Epoch 70/100\n",
            "19/19 [==============================] - 1s 63ms/step - loss: 2.3372 - mae: 2.8025 - lr: 2.8184e-05\n",
            "Epoch 71/100\n",
            "19/19 [==============================] - 1s 62ms/step - loss: 2.0243 - mae: 2.4839 - lr: 3.1623e-05\n",
            "Epoch 72/100\n",
            "19/19 [==============================] - 1s 63ms/step - loss: 2.4026 - mae: 2.8688 - lr: 3.5481e-05\n",
            "Epoch 73/100\n",
            "19/19 [==============================] - 1s 61ms/step - loss: 2.4749 - mae: 2.9351 - lr: 3.9811e-05\n",
            "Epoch 74/100\n",
            "19/19 [==============================] - 1s 63ms/step - loss: 7.5661 - mae: 8.0557 - lr: 4.4668e-05\n",
            "Epoch 75/100\n",
            "19/19 [==============================] - 1s 59ms/step - loss: 4.6200 - mae: 5.1012 - lr: 5.0119e-05\n",
            "Epoch 76/100\n",
            "19/19 [==============================] - 1s 60ms/step - loss: 5.1545 - mae: 5.6338 - lr: 5.6234e-05\n",
            "Epoch 77/100\n",
            "19/19 [==============================] - 1s 61ms/step - loss: 7.9252 - mae: 8.4159 - lr: 6.3096e-05\n",
            "Epoch 78/100\n",
            "19/19 [==============================] - 1s 64ms/step - loss: 8.5623 - mae: 9.0502 - lr: 7.0795e-05\n",
            "Epoch 79/100\n",
            "19/19 [==============================] - 1s 61ms/step - loss: 8.2520 - mae: 8.7493 - lr: 7.9433e-05\n",
            "Epoch 80/100\n",
            "19/19 [==============================] - 1s 63ms/step - loss: 13.0639 - mae: 13.5574 - lr: 8.9125e-05\n",
            "Epoch 81/100\n",
            "19/19 [==============================] - 1s 62ms/step - loss: 19.5158 - mae: 20.0113 - lr: 1.0000e-04\n",
            "Epoch 82/100\n",
            "19/19 [==============================] - 1s 59ms/step - loss: 10.3068 - mae: 10.8018 - lr: 1.1220e-04\n",
            "Epoch 83/100\n",
            "19/19 [==============================] - 1s 63ms/step - loss: 5.7941 - mae: 6.2790 - lr: 1.2589e-04\n",
            "Epoch 84/100\n",
            "19/19 [==============================] - 1s 60ms/step - loss: 11.5392 - mae: 12.0345 - lr: 1.4125e-04\n",
            "Epoch 85/100\n",
            "19/19 [==============================] - 1s 65ms/step - loss: 10.4706 - mae: 10.9622 - lr: 1.5849e-04\n",
            "Epoch 86/100\n",
            "19/19 [==============================] - 1s 63ms/step - loss: 14.4542 - mae: 14.9529 - lr: 1.7783e-04\n",
            "Epoch 87/100\n",
            "19/19 [==============================] - 1s 61ms/step - loss: 12.2341 - mae: 12.7235 - lr: 1.9953e-04\n",
            "Epoch 88/100\n",
            "19/19 [==============================] - 1s 62ms/step - loss: 32.3131 - mae: 32.8123 - lr: 2.2387e-04\n",
            "Epoch 89/100\n",
            "19/19 [==============================] - 1s 60ms/step - loss: 39.7445 - mae: 40.2435 - lr: 2.5119e-04\n",
            "Epoch 90/100\n",
            "19/19 [==============================] - 1s 59ms/step - loss: 45.2717 - mae: 45.7687 - lr: 2.8184e-04\n",
            "Epoch 91/100\n",
            "19/19 [==============================] - 1s 64ms/step - loss: 46.4571 - mae: 46.9570 - lr: 3.1623e-04\n",
            "Epoch 92/100\n",
            "19/19 [==============================] - 1s 59ms/step - loss: 54.2599 - mae: 54.7599 - lr: 3.5481e-04\n",
            "Epoch 93/100\n",
            "19/19 [==============================] - 1s 60ms/step - loss: 61.3125 - mae: 61.8125 - lr: 3.9811e-04\n",
            "Epoch 94/100\n",
            "19/19 [==============================] - 1s 61ms/step - loss: 34.1216 - mae: 34.6178 - lr: 4.4668e-04\n",
            "Epoch 95/100\n",
            "19/19 [==============================] - 1s 61ms/step - loss: 41.5316 - mae: 42.0309 - lr: 5.0119e-04\n",
            "Epoch 96/100\n",
            "19/19 [==============================] - 1s 62ms/step - loss: 106.3195 - mae: 106.8189 - lr: 5.6234e-04\n",
            "Epoch 97/100\n",
            "19/19 [==============================] - 1s 61ms/step - loss: 49.3020 - mae: 49.7995 - lr: 6.3096e-04\n",
            "Epoch 98/100\n",
            "19/19 [==============================] - 1s 60ms/step - loss: 48.0482 - mae: 48.5458 - lr: 7.0795e-04\n",
            "Epoch 99/100\n",
            "19/19 [==============================] - 1s 61ms/step - loss: 141.8991 - mae: 142.3985 - lr: 7.9433e-04\n",
            "Epoch 100/100\n",
            "19/19 [==============================] - 1s 61ms/step - loss: 90.6445 - mae: 91.1429 - lr: 8.9125e-04\n"
          ],
          "name": "stdout"
        }
      ]
    },
    {
      "cell_type": "code",
      "metadata": {
        "colab_type": "code",
        "id": "vVcKmg7Q_7rD",
        "colab": {
          "base_uri": "https://localhost:8080/",
          "height": 290
        },
        "outputId": "f4e6169e-e9d5-4664-e0a2-ca41f3095fe9"
      },
      "source": [
        "# plot learning rate to pick next start point for lr\n",
        "plt.semilogx(history.history[\"lr\"], history.history[\"loss\"])\n",
        "plt.axis([1e-8, 1e-4, 0, 60])"
      ],
      "execution_count": null,
      "outputs": [
        {
          "output_type": "execute_result",
          "data": {
            "text/plain": [
              "(1e-08, 0.0001, 0.0, 60.0)"
            ]
          },
          "metadata": {
            "tags": []
          },
          "execution_count": 22
        },
        {
          "output_type": "display_data",
          "data": {
            "image/png": "[encoded data removed]",
            "text/plain": [
              "<Figure size 432x288 with 1 Axes>"
            ]
          },
          "metadata": {
            "tags": [],
            "needs_background": "light"
          }
        }
      ]
    },
    {
      "cell_type": "code",
      "metadata": {
        "colab_type": "code",
        "id": "V-QU6SWrMZ0I",
        "colab": {}
      },
      "source": [
        "# forcast weather temperature using above model\n",
        "\n",
        "# np.newaxis reshapes data to the input dimension that's used by the model\n",
        "rnn_forecast = model_forecast(model, series[..., np.newaxis], window_size)\n",
        "# split_time - window_size:-1 => we forcasted whole data, so need to just pick valid data \n",
        "# -1 => it's repeated as window size, just get last value to be label\n",
        "# 0 => convert [23] to 23\n",
        "rnn_forecast_ = rnn_forecast[split_time - window_size:-1, -1, 0]"
      ],
      "execution_count": null,
      "outputs": []
    },
    {
      "cell_type": "code",
      "metadata": {
        "id": "5iOUNbjcMglM",
        "colab_type": "code",
        "colab": {
          "base_uri": "https://localhost:8080/",
          "height": 69
        },
        "outputId": "4546a240-23b7-4258-ccbc-901f9b9b6ee1"
      },
      "source": [
        "# check sum shapes\n",
        "print('input data shape: ', series[..., np.newaxis].shape)\n",
        "print('forcasted data shape: ', rnn_forecast.shape)\n",
        "print('forcasted data after fixing shape: ', rnn_forecast_.shape)"
      ],
      "execution_count": null,
      "outputs": [
        {
          "output_type": "stream",
          "text": [
            "input data shape:  (6793, 1)\n",
            "forcasted data shape:  (6730, 64, 1)\n",
            "forcasted data after fixing shape:  (2093,)\n"
          ],
          "name": "stdout"
        }
      ]
    },
    {
      "cell_type": "code",
      "metadata": {
        "id": "EHzrrt-SQ5Du",
        "colab_type": "code",
        "colab": {
          "base_uri": "https://localhost:8080/",
          "height": 35
        },
        "outputId": "2bc8134c-aec1-424f-9f0f-ca824c11de0c"
      },
      "source": [
        "# show forcasted result\n",
        "print(rnn_forecast_)"
      ],
      "execution_count": null,
      "outputs": [
        {
          "output_type": "stream",
          "text": [
            "[-210.0024 -210.0024 -210.0024 ... -210.0024 -210.0024 -210.0024]\n"
          ],
          "name": "stdout"
        }
      ]
    },
    {
      "cell_type": "code",
      "metadata": {
        "id": "Iv12xauvRKlK",
        "colab_type": "code",
        "colab": {
          "base_uri": "https://localhost:8080/",
          "height": 458
        },
        "outputId": "b56edaf8-0b03-4bb4-ab87-95e8a0658e26"
      },
      "source": [
        "# plot forcasting data\n",
        "plt.figure(figsize=(15, 7))\n",
        "plot_series(time_valid, x_valid, fig_title=\"True Temperature  VS forecasted Temperature\", y_label='Temperature')\n",
        "plot_series(time_valid, rnn_forecast_, fig_title=\"True Temperature  VS forecasted Temperature\", y_label='Temperature')"
      ],
      "execution_count": null,
      "outputs": [
        {
          "output_type": "display_data",
          "data": {
            "image/png": "[encoded data removed]",
            "text/plain": [
              "<Figure size 1080x504 with 1 Axes>"
            ]
          },
          "metadata": {
            "tags": [],
            "needs_background": "light"
          }
        }
      ]
    },
    {
      "cell_type": "code",
      "metadata": {
        "id": "WdxZ8zFYjVbh",
        "colab_type": "code",
        "colab": {}
      },
      "source": [
        "# we'll use best learning rate from figure above to build better model\n",
        "# prepare new model\n",
        "tf.keras.backend.clear_session()\n",
        "\n",
        "# prepare data\n",
        "window_size = 60\n",
        "batch_size = 100\n",
        "train_set = windowed_dataset(x_train, window_size, batch_size, shuffle_buffer_size)"
      ],
      "execution_count": null,
      "outputs": []
    },
    {
      "cell_type": "code",
      "metadata": {
        "colab_type": "code",
        "id": "QsksvkcXAAgq",
        "colab": {
          "base_uri": "https://localhost:8080/",
          "height": 1000
        },
        "outputId": "58b40b04-0946-4cbb-838f-c33dd87cd54d"
      },
      "source": [
        "# build new model\n",
        "model = tf.keras.models.Sequential([\n",
        "  tf.keras.layers.Conv1D(filters=60, kernel_size=5,\n",
        "                      strides=1, padding=\"causal\",\n",
        "                      activation=\"relu\",\n",
        "                      input_shape=[None, 1]),\n",
        "  tf.keras.layers.LSTM(60, return_sequences=True),\n",
        "  tf.keras.layers.LSTM(60, return_sequences=True),\n",
        "  tf.keras.layers.Dense(30, activation=\"relu\"),\n",
        "  tf.keras.layers.Dense(10, activation=\"relu\"),\n",
        "  tf.keras.layers.Dense(1),\n",
        "  tf.keras.layers.Lambda(lambda x: x * 400)\n",
        "])\n",
        "\n",
        "\n",
        "optimizer = tf.keras.optimizers.SGD(lr=5e-6, momentum=0.9)\n",
        "model.compile(loss=tf.keras.losses.Huber(),\n",
        "              optimizer=optimizer,\n",
        "              metrics=[\"mae\"])\n",
        "history = model.fit(train_set,epochs=150)"
      ],
      "execution_count": null,
      "outputs": [
        {
          "output_type": "stream",
          "text": [
            "Epoch 1/150\n",
            "47/47 [==============================] - 1s 32ms/step - loss: 12.3137 - mae: 12.8015\n",
            "Epoch 2/150\n",
            "47/47 [==============================] - 2s 33ms/step - loss: 2.3178 - mae: 2.7832\n",
            "Epoch 3/150\n",
            "47/47 [==============================] - 2s 32ms/step - loss: 2.1997 - mae: 2.6698\n",
            "Epoch 4/150\n",
            "47/47 [==============================] - 2s 32ms/step - loss: 1.9561 - mae: 2.4210\n",
            "Epoch 5/150\n",
            "47/47 [==============================] - 2s 32ms/step - loss: 3.3869 - mae: 3.8593\n",
            "Epoch 6/150\n",
            "47/47 [==============================] - 2s 32ms/step - loss: 2.7484 - mae: 3.2096\n",
            "Epoch 7/150\n",
            "47/47 [==============================] - 2s 33ms/step - loss: 1.7753 - mae: 2.2374\n",
            "Epoch 8/150\n",
            "47/47 [==============================] - 2s 32ms/step - loss: 4.3081 - mae: 4.7804\n",
            "Epoch 9/150\n",
            "47/47 [==============================] - 2s 33ms/step - loss: 4.7239 - mae: 5.2109\n",
            "Epoch 10/150\n",
            "47/47 [==============================] - 1s 32ms/step - loss: 5.0797 - mae: 5.5623\n",
            "Epoch 11/150\n",
            "47/47 [==============================] - 1s 32ms/step - loss: 1.2427 - mae: 1.6773\n",
            "Epoch 12/150\n",
            "47/47 [==============================] - 2s 32ms/step - loss: 2.4380 - mae: 2.9098\n",
            "Epoch 13/150\n",
            "47/47 [==============================] - 2s 33ms/step - loss: 2.4191 - mae: 2.8870\n",
            "Epoch 14/150\n",
            "47/47 [==============================] - 1s 31ms/step - loss: 2.7008 - mae: 3.1916\n",
            "Epoch 15/150\n",
            "47/47 [==============================] - 1s 32ms/step - loss: 2.3853 - mae: 2.8465\n",
            "Epoch 16/150\n",
            "47/47 [==============================] - 1s 32ms/step - loss: 1.2171 - mae: 1.6452\n",
            "Epoch 17/150\n",
            "47/47 [==============================] - 2s 32ms/step - loss: 1.0023 - mae: 1.4615\n",
            "Epoch 18/150\n",
            "47/47 [==============================] - 1s 32ms/step - loss: 1.5888 - mae: 2.0370\n",
            "Epoch 19/150\n",
            "47/47 [==============================] - 2s 33ms/step - loss: 2.4221 - mae: 2.9132\n",
            "Epoch 20/150\n",
            "47/47 [==============================] - 1s 31ms/step - loss: 2.2970 - mae: 2.7867\n",
            "Epoch 21/150\n",
            "47/47 [==============================] - 2s 33ms/step - loss: 2.0880 - mae: 2.5725\n",
            "Epoch 22/150\n",
            "47/47 [==============================] - 2s 33ms/step - loss: 2.0521 - mae: 2.5391\n",
            "Epoch 23/150\n",
            "47/47 [==============================] - 2s 32ms/step - loss: 1.8818 - mae: 2.3518\n",
            "Epoch 24/150\n",
            "47/47 [==============================] - 2s 32ms/step - loss: 1.8307 - mae: 2.3096\n",
            "Epoch 25/150\n",
            "47/47 [==============================] - 2s 32ms/step - loss: 1.8347 - mae: 2.3194\n",
            "Epoch 26/150\n",
            "47/47 [==============================] - 2s 32ms/step - loss: 1.8041 - mae: 2.2880\n",
            "Epoch 27/150\n",
            "47/47 [==============================] - 1s 31ms/step - loss: 1.6826 - mae: 2.1617\n",
            "Epoch 28/150\n",
            "47/47 [==============================] - 1s 32ms/step - loss: 1.6595 - mae: 2.1388\n",
            "Epoch 29/150\n",
            "47/47 [==============================] - 1s 32ms/step - loss: 1.6282 - mae: 2.1102\n",
            "Epoch 30/150\n",
            "47/47 [==============================] - 2s 32ms/step - loss: 1.5869 - mae: 2.0675\n",
            "Epoch 31/150\n",
            "47/47 [==============================] - 2s 33ms/step - loss: 1.5104 - mae: 1.9894\n",
            "Epoch 32/150\n",
            "47/47 [==============================] - 2s 34ms/step - loss: 1.4476 - mae: 1.9216\n",
            "Epoch 33/150\n",
            "47/47 [==============================] - 2s 34ms/step - loss: 1.4058 - mae: 1.8811\n",
            "Epoch 34/150\n",
            "47/47 [==============================] - 2s 34ms/step - loss: 1.4068 - mae: 1.8834\n",
            "Epoch 35/150\n",
            "47/47 [==============================] - 2s 34ms/step - loss: 1.3195 - mae: 1.7853\n",
            "Epoch 36/150\n",
            "47/47 [==============================] - 2s 33ms/step - loss: 1.2739 - mae: 1.7405\n",
            "Epoch 37/150\n",
            "47/47 [==============================] - 2s 32ms/step - loss: 1.3121 - mae: 1.7854\n",
            "Epoch 38/150\n",
            "47/47 [==============================] - 2s 32ms/step - loss: 1.3157 - mae: 1.7915\n",
            "Epoch 39/150\n",
            "47/47 [==============================] - 2s 33ms/step - loss: 1.2238 - mae: 1.6906\n",
            "Epoch 40/150\n",
            "47/47 [==============================] - 1s 32ms/step - loss: 1.2951 - mae: 1.7709\n",
            "Epoch 41/150\n",
            "47/47 [==============================] - 2s 33ms/step - loss: 1.2486 - mae: 1.7232\n",
            "Epoch 42/150\n",
            "47/47 [==============================] - 2s 32ms/step - loss: 1.1896 - mae: 1.6600\n",
            "Epoch 43/150\n",
            "47/47 [==============================] - 2s 32ms/step - loss: 1.1994 - mae: 1.6727\n",
            "Epoch 44/150\n",
            "47/47 [==============================] - 2s 33ms/step - loss: 1.1938 - mae: 1.6652\n",
            "Epoch 45/150\n",
            "47/47 [==============================] - 2s 33ms/step - loss: 1.2005 - mae: 1.6766\n",
            "Epoch 46/150\n",
            "47/47 [==============================] - 2s 32ms/step - loss: 1.1845 - mae: 1.6608\n",
            "Epoch 47/150\n",
            "47/47 [==============================] - 1s 32ms/step - loss: 1.1064 - mae: 1.5737\n",
            "Epoch 48/150\n",
            "47/47 [==============================] - 2s 32ms/step - loss: 1.0910 - mae: 1.5566\n",
            "Epoch 49/150\n",
            "47/47 [==============================] - 2s 34ms/step - loss: 1.1363 - mae: 1.6123\n",
            "Epoch 50/150\n",
            "47/47 [==============================] - 2s 33ms/step - loss: 1.1049 - mae: 1.5782\n",
            "Epoch 51/150\n",
            "47/47 [==============================] - 2s 33ms/step - loss: 1.0806 - mae: 1.5514\n",
            "Epoch 52/150\n",
            "47/47 [==============================] - 2s 32ms/step - loss: 1.0657 - mae: 1.5321\n",
            "Epoch 53/150\n",
            "47/47 [==============================] - 1s 32ms/step - loss: 1.0329 - mae: 1.5011\n",
            "Epoch 54/150\n",
            "47/47 [==============================] - 2s 33ms/step - loss: 0.9848 - mae: 1.4393\n",
            "Epoch 55/150\n",
            "47/47 [==============================] - 2s 33ms/step - loss: 1.0282 - mae: 1.4969\n",
            "Epoch 56/150\n",
            "47/47 [==============================] - 2s 32ms/step - loss: 1.0388 - mae: 1.5102\n",
            "Epoch 57/150\n",
            "47/47 [==============================] - 2s 32ms/step - loss: 0.9816 - mae: 1.4483\n",
            "Epoch 58/150\n",
            "47/47 [==============================] - 2s 32ms/step - loss: 0.9955 - mae: 1.4654\n",
            "Epoch 59/150\n",
            "47/47 [==============================] - 2s 33ms/step - loss: 0.9605 - mae: 1.4246\n",
            "Epoch 60/150\n",
            "47/47 [==============================] - 2s 32ms/step - loss: 0.9539 - mae: 1.4172\n",
            "Epoch 61/150\n",
            "47/47 [==============================] - 2s 34ms/step - loss: 0.9500 - mae: 1.4155\n",
            "Epoch 62/150\n",
            "47/47 [==============================] - 2s 33ms/step - loss: 0.9964 - mae: 1.4697\n",
            "Epoch 63/150\n",
            "47/47 [==============================] - 2s 32ms/step - loss: 0.9382 - mae: 1.4053\n",
            "Epoch 64/150\n",
            "47/47 [==============================] - 2s 33ms/step - loss: 0.5461 - mae: 0.9148\n",
            "Epoch 65/150\n",
            "47/47 [==============================] - 2s 32ms/step - loss: 0.3199 - mae: 0.5907\n",
            "Epoch 66/150\n",
            "47/47 [==============================] - 2s 33ms/step - loss: 0.3253 - mae: 0.6060\n",
            "Epoch 67/150\n",
            "47/47 [==============================] - 2s 33ms/step - loss: 0.3012 - mae: 0.5552\n",
            "Epoch 68/150\n",
            "47/47 [==============================] - 2s 32ms/step - loss: 0.3061 - mae: 0.5740\n",
            "Epoch 69/150\n",
            "47/47 [==============================] - 2s 33ms/step - loss: 0.3105 - mae: 0.5868\n",
            "Epoch 70/150\n",
            "47/47 [==============================] - 2s 33ms/step - loss: 0.2884 - mae: 0.5312\n",
            "Epoch 71/150\n",
            "47/47 [==============================] - 2s 32ms/step - loss: 0.2918 - mae: 0.5457\n",
            "Epoch 72/150\n",
            "47/47 [==============================] - 2s 32ms/step - loss: 0.2823 - mae: 0.5213\n",
            "Epoch 73/150\n",
            "47/47 [==============================] - 2s 33ms/step - loss: 0.2812 - mae: 0.5206\n",
            "Epoch 74/150\n",
            "47/47 [==============================] - 2s 32ms/step - loss: 0.2796 - mae: 0.5208\n",
            "Epoch 75/150\n",
            "47/47 [==============================] - 2s 32ms/step - loss: 0.2780 - mae: 0.5165\n",
            "Epoch 76/150\n",
            "47/47 [==============================] - 2s 32ms/step - loss: 0.2724 - mae: 0.5005\n",
            "Epoch 77/150\n",
            "47/47 [==============================] - 2s 33ms/step - loss: 0.2702 - mae: 0.4966\n",
            "Epoch 78/150\n",
            "47/47 [==============================] - 1s 32ms/step - loss: 0.2696 - mae: 0.4969\n",
            "Epoch 79/150\n",
            "47/47 [==============================] - 2s 32ms/step - loss: 0.2662 - mae: 0.4871\n",
            "Epoch 80/150\n",
            "47/47 [==============================] - 2s 32ms/step - loss: 0.2706 - mae: 0.5059\n",
            "Epoch 81/150\n",
            "47/47 [==============================] - 2s 33ms/step - loss: 0.2651 - mae: 0.4880\n",
            "Epoch 82/150\n",
            "47/47 [==============================] - 2s 32ms/step - loss: 0.2644 - mae: 0.4881\n",
            "Epoch 83/150\n",
            "47/47 [==============================] - 2s 34ms/step - loss: 0.2688 - mae: 0.5066\n",
            "Epoch 84/150\n",
            "47/47 [==============================] - 2s 32ms/step - loss: 0.2642 - mae: 0.4921\n",
            "Epoch 85/150\n",
            "47/47 [==============================] - 2s 34ms/step - loss: 0.2648 - mae: 0.4955\n",
            "Epoch 86/150\n",
            "47/47 [==============================] - 2s 32ms/step - loss: 0.2591 - mae: 0.4777\n",
            "Epoch 87/150\n",
            "47/47 [==============================] - 2s 32ms/step - loss: 0.2593 - mae: 0.4795\n",
            "Epoch 88/150\n",
            "47/47 [==============================] - 2s 32ms/step - loss: 0.2548 - mae: 0.4647\n",
            "Epoch 89/150\n",
            "47/47 [==============================] - 2s 32ms/step - loss: 0.2562 - mae: 0.4737\n",
            "Epoch 90/150\n",
            "47/47 [==============================] - 2s 33ms/step - loss: 0.2582 - mae: 0.4822\n",
            "Epoch 91/150\n",
            "47/47 [==============================] - 2s 34ms/step - loss: 0.2548 - mae: 0.4726\n",
            "Epoch 92/150\n",
            "47/47 [==============================] - 2s 32ms/step - loss: 0.2515 - mae: 0.4607\n",
            "Epoch 93/150\n",
            "47/47 [==============================] - 2s 33ms/step - loss: 0.2520 - mae: 0.4650\n",
            "Epoch 94/150\n",
            "47/47 [==============================] - 2s 32ms/step - loss: 0.2492 - mae: 0.4552\n",
            "Epoch 95/150\n",
            "47/47 [==============================] - 2s 32ms/step - loss: 0.2482 - mae: 0.4541\n",
            "Epoch 96/150\n",
            "47/47 [==============================] - 2s 32ms/step - loss: 0.2480 - mae: 0.4546\n",
            "Epoch 97/150\n",
            "47/47 [==============================] - 2s 32ms/step - loss: 0.2471 - mae: 0.4535\n",
            "Epoch 98/150\n",
            "47/47 [==============================] - 2s 33ms/step - loss: 0.2492 - mae: 0.4643\n",
            "Epoch 99/150\n",
            "47/47 [==============================] - 2s 33ms/step - loss: 0.2462 - mae: 0.4540\n",
            "Epoch 100/150\n",
            "47/47 [==============================] - 2s 32ms/step - loss: 0.2445 - mae: 0.4483\n",
            "Epoch 101/150\n",
            "47/47 [==============================] - 2s 33ms/step - loss: 0.2449 - mae: 0.4533\n",
            "Epoch 102/150\n",
            "47/47 [==============================] - 2s 32ms/step - loss: 0.2454 - mae: 0.4578\n",
            "Epoch 103/150\n",
            "47/47 [==============================] - 1s 32ms/step - loss: 0.2470 - mae: 0.4649\n",
            "Epoch 104/150\n",
            "47/47 [==============================] - 2s 32ms/step - loss: 0.2419 - mae: 0.4465\n",
            "Epoch 105/150\n",
            "47/47 [==============================] - 2s 33ms/step - loss: 0.2442 - mae: 0.4584\n",
            "Epoch 106/150\n",
            "47/47 [==============================] - 1s 32ms/step - loss: 0.2414 - mae: 0.4496\n",
            "Epoch 107/150\n",
            "47/47 [==============================] - 2s 33ms/step - loss: 0.2435 - mae: 0.4581\n",
            "Epoch 108/150\n",
            "47/47 [==============================] - 2s 33ms/step - loss: 0.2385 - mae: 0.4397\n",
            "Epoch 109/150\n",
            "47/47 [==============================] - 2s 33ms/step - loss: 0.2406 - mae: 0.4511\n",
            "Epoch 110/150\n",
            "47/47 [==============================] - 2s 33ms/step - loss: 0.2371 - mae: 0.4379\n",
            "Epoch 111/150\n",
            "47/47 [==============================] - 2s 33ms/step - loss: 0.2395 - mae: 0.4488\n",
            "Epoch 112/150\n",
            "47/47 [==============================] - 2s 32ms/step - loss: 0.2353 - mae: 0.4339\n",
            "Epoch 113/150\n",
            "47/47 [==============================] - 2s 32ms/step - loss: 0.2359 - mae: 0.4374\n",
            "Epoch 114/150\n",
            "47/47 [==============================] - 2s 32ms/step - loss: 0.2340 - mae: 0.4322\n",
            "Epoch 115/150\n",
            "47/47 [==============================] - 2s 33ms/step - loss: 0.2330 - mae: 0.4287\n",
            "Epoch 116/150\n",
            "47/47 [==============================] - 2s 33ms/step - loss: 0.2320 - mae: 0.4266\n",
            "Epoch 117/150\n",
            "47/47 [==============================] - 2s 32ms/step - loss: 0.2357 - mae: 0.4449\n",
            "Epoch 118/150\n",
            "47/47 [==============================] - 2s 32ms/step - loss: 0.2324 - mae: 0.4326\n",
            "Epoch 119/150\n",
            "47/47 [==============================] - 2s 32ms/step - loss: 0.2312 - mae: 0.4291\n",
            "Epoch 120/150\n",
            "47/47 [==============================] - 2s 32ms/step - loss: 0.2330 - mae: 0.4395\n",
            "Epoch 121/150\n",
            "47/47 [==============================] - 2s 32ms/step - loss: 0.2346 - mae: 0.4495\n",
            "Epoch 122/150\n",
            "47/47 [==============================] - 2s 32ms/step - loss: 0.2319 - mae: 0.4399\n",
            "Epoch 123/150\n",
            "47/47 [==============================] - 2s 33ms/step - loss: 0.2299 - mae: 0.4326\n",
            "Epoch 124/150\n",
            "47/47 [==============================] - 2s 32ms/step - loss: 0.2296 - mae: 0.4306\n",
            "Epoch 125/150\n",
            "47/47 [==============================] - 1s 32ms/step - loss: 0.2276 - mae: 0.4242\n",
            "Epoch 126/150\n",
            "47/47 [==============================] - 2s 33ms/step - loss: 0.2269 - mae: 0.4237\n",
            "Epoch 127/150\n",
            "47/47 [==============================] - 2s 32ms/step - loss: 0.2308 - mae: 0.4415\n",
            "Epoch 128/150\n",
            "47/47 [==============================] - 2s 32ms/step - loss: 0.2261 - mae: 0.4229\n",
            "Epoch 129/150\n",
            "47/47 [==============================] - 2s 33ms/step - loss: 0.2285 - mae: 0.4340\n",
            "Epoch 130/150\n",
            "47/47 [==============================] - 2s 32ms/step - loss: 0.2279 - mae: 0.4338\n",
            "Epoch 131/150\n",
            "47/47 [==============================] - 1s 32ms/step - loss: 0.2225 - mae: 0.4111\n",
            "Epoch 132/150\n",
            "47/47 [==============================] - 2s 32ms/step - loss: 0.2286 - mae: 0.4409\n",
            "Epoch 133/150\n",
            "47/47 [==============================] - 2s 32ms/step - loss: 0.2230 - mae: 0.4177\n",
            "Epoch 134/150\n",
            "47/47 [==============================] - 1s 32ms/step - loss: 0.2259 - mae: 0.4331\n",
            "Epoch 135/150\n",
            "47/47 [==============================] - 2s 33ms/step - loss: 0.2231 - mae: 0.4224\n",
            "Epoch 136/150\n",
            "47/47 [==============================] - 2s 32ms/step - loss: 0.2244 - mae: 0.4299\n",
            "Epoch 137/150\n",
            "47/47 [==============================] - 2s 33ms/step - loss: 0.2230 - mae: 0.4228\n",
            "Epoch 138/150\n",
            "47/47 [==============================] - 1s 32ms/step - loss: 0.2235 - mae: 0.4259\n",
            "Epoch 139/150\n",
            "47/47 [==============================] - 2s 32ms/step - loss: 0.2259 - mae: 0.4375\n",
            "Epoch 140/150\n",
            "47/47 [==============================] - 2s 32ms/step - loss: 0.2196 - mae: 0.4130\n",
            "Epoch 141/150\n",
            "47/47 [==============================] - 2s 34ms/step - loss: 0.2248 - mae: 0.4390\n",
            "Epoch 142/150\n",
            "47/47 [==============================] - 1s 32ms/step - loss: 0.2347 - mae: 0.4743\n",
            "Epoch 143/150\n",
            "47/47 [==============================] - 1s 31ms/step - loss: 0.2281 - mae: 0.4520\n",
            "Epoch 144/150\n",
            "47/47 [==============================] - 2s 32ms/step - loss: 0.2191 - mae: 0.4174\n",
            "Epoch 145/150\n",
            "47/47 [==============================] - 2s 32ms/step - loss: 0.2259 - mae: 0.4450\n",
            "Epoch 146/150\n",
            "47/47 [==============================] - 2s 32ms/step - loss: 0.2307 - mae: 0.4623\n",
            "Epoch 147/150\n",
            "47/47 [==============================] - 2s 32ms/step - loss: 0.2186 - mae: 0.4174\n",
            "Epoch 148/150\n",
            "47/47 [==============================] - 2s 33ms/step - loss: 0.2162 - mae: 0.4086\n",
            "Epoch 149/150\n",
            "47/47 [==============================] - 2s 33ms/step - loss: 0.2270 - mae: 0.4476\n",
            "Epoch 150/150\n",
            "47/47 [==============================] - 2s 32ms/step - loss: 0.2140 - mae: 0.4030\n"
          ],
          "name": "stdout"
        }
      ]
    },
    {
      "cell_type": "code",
      "metadata": {
        "colab_type": "code",
        "id": "GaC6NNMRp0lb",
        "colab": {}
      },
      "source": [
        "# forcast weather temperature using above model\n",
        "\n",
        "# np.newaxis reshapes data to the input dimension that's used by the model\n",
        "rnn_forecast = model_forecast(model, series[..., np.newaxis], window_size)\n",
        "rnn_forecast_ = rnn_forecast[split_time - window_size:-1, -1, 0]"
      ],
      "execution_count": null,
      "outputs": []
    },
    {
      "cell_type": "code",
      "metadata": {
        "colab_type": "code",
        "id": "AOVzQXxCwkzP",
        "colab": {
          "base_uri": "https://localhost:8080/",
          "height": 35
        },
        "outputId": "ac5832eb-6cf4-471a-c103-6aed7fdaaa98"
      },
      "source": [
        "print(rnn_forecast_)"
      ],
      "execution_count": null,
      "outputs": [
        {
          "output_type": "stream",
          "text": [
            "[37.94281  37.929653 37.930603 ... 28.372293 27.874767 27.79946 ]\n"
          ],
          "name": "stdout"
        }
      ]
    },
    {
      "cell_type": "code",
      "metadata": {
        "colab_type": "code",
        "id": "PrktQX3hKYex",
        "colab": {
          "base_uri": "https://localhost:8080/",
          "height": 404
        },
        "outputId": "ea231939-1017-420d-c967-ecabe842d4de"
      },
      "source": [
        "# plot forcasting data\n",
        "plt.figure(figsize=(10, 6))\n",
        "plot_series(time_valid, x_valid, fig_title=\"True Temperature  VS forecasted Temperature\", y_label='Temperature')\n",
        "plot_series(time_valid, rnn_forecast_, fig_title=\"True Temperature  VS forecasted Temperature\", y_label='Temperature')"
      ],
      "execution_count": null,
      "outputs": [
        {
          "output_type": "display_data",
          "data": {
            "image/png": "[encoded data removed]",
            "text/plain": [
              "<Figure size 720x432 with 1 Axes>"
            ]
          },
          "metadata": {
            "tags": [],
            "needs_background": "light"
          }
        }
      ]
    },
    {
      "cell_type": "code",
      "metadata": {
        "colab_type": "code",
        "id": "13XrorC5wQoE",
        "colab": {
          "base_uri": "https://localhost:8080/",
          "height": 35
        },
        "outputId": "579a66b7-c797-43de-c0b3-db47a2e81131"
      },
      "source": [
        "# loss/error\n",
        "tf.keras.metrics.mean_absolute_error(x_valid, rnn_forecast_).numpy()"
      ],
      "execution_count": null,
      "outputs": [
        {
          "output_type": "execute_result",
          "data": {
            "text/plain": [
              "0.44035494"
            ]
          },
          "metadata": {
            "tags": []
          },
          "execution_count": 37
        }
      ]
    },
    {
      "cell_type": "code",
      "metadata": {
        "id": "QZJJ6JXimj8R",
        "colab_type": "code",
        "colab": {
          "base_uri": "https://localhost:8080/",
          "height": 265
        },
        "outputId": "0aa2deca-6a22-4851-e1fb-3469411854e2"
      },
      "source": [
        "# Plot loss starting from 10th loss\n",
        "loss = history.history['loss']\n",
        "epochs = range(10, len(loss))\n",
        "plot_loss = loss[10:]\n",
        "plt.plot(epochs, plot_loss, 'b', label='Training Loss')\n",
        "plt.show()"
      ],
      "execution_count": null,
      "outputs": [
        {
          "output_type": "display_data",
          "data": {
            "image/png": "[encoded data removed]",
            "text/plain": [
              "<Figure size 432x288 with 1 Axes>"
            ]
          },
          "metadata": {
            "tags": [],
            "needs_background": "light"
          }
        }
      ]
    }
  ]
}